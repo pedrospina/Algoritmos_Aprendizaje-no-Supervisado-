{
 "cells": [
  {
   "cell_type": "markdown",
   "id": "4f654804-1034-4b35-b391-847f7a2ae363",
   "metadata": {},
   "source": [
    "<img src=\"https://www.unad.edu.co/images/footer/logo-unad-acreditacion-min.png\" width=\"780\" height=\"140\" align=\"right\"/>"
   ]
  },
  {
   "cell_type": "markdown",
   "id": "afbff1d4-173a-40a0-a163-55ed381b42b4",
   "metadata": {},
   "source": [
    "<p align=\"center\">Análisis de Datos</p>\n",
    "\n",
    "\n",
    "<p align=\"center\"> Grupo: 91X </p>\n",
    "\n",
    " <p align=\"center\"> Tarea 4 - Algoritmos de Aprendizaje no Supervisado</p>\n",
    "\n",
    " <p align=\"center\">  Presentado por: Ángela Bibiana Ortegón Fuentes</p>\n",
    "\n",
    "<p align=\"center\"> Código: 1007415324</p>\n",
    "\n",
    " <p align=\"center\">  Tutora: Sandra M. Patiño</p>\n",
    "\n",
    " <p align=\"center\"> UNIVERSIDAD NACIONAL ABIERTA Y A DISTANCIA - UNAD </p>\n",
    "\n",
    "<p align=\"center\"> Noviembre 26 de 2024</p>"
   ]
  },
  {
   "cell_type": "markdown",
   "id": "1878e39b-6511-4e51-9b83-229a49d0ff91",
   "metadata": {},
   "source": [
    "# Agrupamiento en Hierarchical Clustering"
   ]
  },
  {
   "cell_type": "markdown",
   "id": "b76973fd-d5fb-4512-aada-ac263be0a5e0",
   "metadata": {},
   "source": [
    "## Pasos de la Actividad\n",
    "\n",
    "1. Análisis exploratorio de los datos para identificar relaciones entre variables, valores atípicos, tendencias, etc.\n",
    "2. Preprocesar los datos limpiándolos, tratando valores faltantes y transformándolos según sea necesario\n",
    "3. Seleccionar las características más relevantes para entrenar el modelo utilizando selección de características\n",
    "4. Entrenar el modelo configurando los diferentes hiperparámetros\n",
    "5. Evaluar el desempeño del modelo con métricas como Coeficiente de Silhouette, Índice de Calinski-Harabasz, etc\n",
    "6. Realizar las diferentes gráficas que permitan visualizar los resultados del modelo.\n",
    "7. Interpretar, analizar y documentar los resultados obtenido.s"
   ]
  },
  {
   "cell_type": "markdown",
   "id": "9b1f8de9-c81f-42d6-b1ef-24359663cf28",
   "metadata": {},
   "source": [
    "### 1. Análisis exploratorio de los datos para identificar relaciones entre variables, valores atípicos, tendencias, etc."
   ]
  },
  {
   "cell_type": "code",
   "execution_count": 143,
   "id": "4da2479d-c561-4de7-8a53-e62aa478c705",
   "metadata": {},
   "outputs": [],
   "source": [
    "#Cargar las librerias para el ejercicio hierarchical clustering\n",
    "\n",
    "import pandas as pd # Manejo y análisis de estructuras de datos\n",
    "import numpy as np # Cálculo numérico y el análisis de datos\n",
    "import seaborn as sns # Creación gráficos estadísticos\n",
    "import matplotlib.pyplot as plt # Creación de gráficos en dos dimensiones\n",
    "import plotly.graph_objs as go # Creación de gráficos en tres dimensiones\n",
    "import plotly.express as px # Creación de gráficos en tres dimensiones\n",
    "\n",
    "\n",
    "# librerías de para implementar modelo Kmeans\n",
    "from sklearn.cluster import AgglomerativeClustering #algoritmos de agrupamiento o clustering, dividir datos en grupos o clusters basados en su similitud.\n",
    "from sklearn.preprocessing import StandardScaler #escalar o normalizar los datos \n",
    "from scipy.cluster.hierarchy import linkage, dendrogram #herramientas para realizar agrupamiento jerárquico y visualización de dendrogramas.\n",
    "#dendrogram:  genera un gráfico de árbol \n",
    "\n",
    "# librerías de para evaluar el modelo\n",
    "from sklearn.metrics import silhouette_score, calinski_harabasz_score, davies_bouldin_score\n",
    "from datetime import datetime\n",
    "\n",
    "#Librería para evitar la advertencia de que el modelo tiene una pérdida de memoria en Windows \n",
    "import warnings\n",
    "warnings.filterwarnings('ignore')"
   ]
  },
  {
   "cell_type": "markdown",
   "id": "d367996f-631e-40bd-8e58-8663c74d3e48",
   "metadata": {},
   "source": [
    "## Ejercicio\n",
    "\n",
    "El Hierarchical Clustering es una técnica de clustering no supervisado que permite agrupar a los clientes según sus comportamientos o características comunes.es un conjunto de datos utilizado comúnmente en análisis de marketing, en particular para realizar segmentaciones de clientes, análisis de comportamiento y optimización de campañas publicitarias. Este dataset contiene información de una segmentación de clientes de centros comerciales."
   ]
  },
  {
   "cell_type": "code",
   "execution_count": 6,
   "id": "e8643289-7013-481f-bf49-e109e951495c",
   "metadata": {},
   "outputs": [],
   "source": [
    "# Cargar el conjunto de datos en la variable data\n",
    "info = pd.read_csv('C:/Users/Pedro/Documents/Mall_Customers.csv', sep=';')"
   ]
  },
  {
   "cell_type": "code",
   "execution_count": 29,
   "id": "8b4bced1-ce5e-4f21-918d-4d8441e1151b",
   "metadata": {},
   "outputs": [
    {
     "data": {
      "text/html": [
       "<div>\n",
       "<style scoped>\n",
       "    .dataframe tbody tr th:only-of-type {\n",
       "        vertical-align: middle;\n",
       "    }\n",
       "\n",
       "    .dataframe tbody tr th {\n",
       "        vertical-align: top;\n",
       "    }\n",
       "\n",
       "    .dataframe thead th {\n",
       "        text-align: right;\n",
       "    }\n",
       "</style>\n",
       "<table border=\"1\" class=\"dataframe\">\n",
       "  <thead>\n",
       "    <tr style=\"text-align: right;\">\n",
       "      <th></th>\n",
       "      <th>CustomerID</th>\n",
       "      <th>Gender</th>\n",
       "      <th>Age</th>\n",
       "      <th>Annual Income (k$)</th>\n",
       "      <th>Spending Score (1-100)</th>\n",
       "    </tr>\n",
       "  </thead>\n",
       "  <tbody>\n",
       "    <tr>\n",
       "      <th>0</th>\n",
       "      <td>1</td>\n",
       "      <td>Male</td>\n",
       "      <td>19</td>\n",
       "      <td>15</td>\n",
       "      <td>39</td>\n",
       "    </tr>\n",
       "    <tr>\n",
       "      <th>1</th>\n",
       "      <td>2</td>\n",
       "      <td>Male</td>\n",
       "      <td>21</td>\n",
       "      <td>15</td>\n",
       "      <td>81</td>\n",
       "    </tr>\n",
       "    <tr>\n",
       "      <th>2</th>\n",
       "      <td>3</td>\n",
       "      <td>Female</td>\n",
       "      <td>20</td>\n",
       "      <td>16</td>\n",
       "      <td>6</td>\n",
       "    </tr>\n",
       "    <tr>\n",
       "      <th>3</th>\n",
       "      <td>4</td>\n",
       "      <td>Female</td>\n",
       "      <td>23</td>\n",
       "      <td>16</td>\n",
       "      <td>77</td>\n",
       "    </tr>\n",
       "    <tr>\n",
       "      <th>4</th>\n",
       "      <td>5</td>\n",
       "      <td>Female</td>\n",
       "      <td>31</td>\n",
       "      <td>17</td>\n",
       "      <td>40</td>\n",
       "    </tr>\n",
       "    <tr>\n",
       "      <th>5</th>\n",
       "      <td>6</td>\n",
       "      <td>Female</td>\n",
       "      <td>22</td>\n",
       "      <td>17</td>\n",
       "      <td>76</td>\n",
       "    </tr>\n",
       "    <tr>\n",
       "      <th>6</th>\n",
       "      <td>7</td>\n",
       "      <td>Female</td>\n",
       "      <td>35</td>\n",
       "      <td>18</td>\n",
       "      <td>6</td>\n",
       "    </tr>\n",
       "    <tr>\n",
       "      <th>7</th>\n",
       "      <td>8</td>\n",
       "      <td>Female</td>\n",
       "      <td>23</td>\n",
       "      <td>18</td>\n",
       "      <td>94</td>\n",
       "    </tr>\n",
       "    <tr>\n",
       "      <th>8</th>\n",
       "      <td>9</td>\n",
       "      <td>Male</td>\n",
       "      <td>64</td>\n",
       "      <td>19</td>\n",
       "      <td>3</td>\n",
       "    </tr>\n",
       "    <tr>\n",
       "      <th>9</th>\n",
       "      <td>10</td>\n",
       "      <td>Female</td>\n",
       "      <td>30</td>\n",
       "      <td>19</td>\n",
       "      <td>72</td>\n",
       "    </tr>\n",
       "    <tr>\n",
       "      <th>10</th>\n",
       "      <td>11</td>\n",
       "      <td>Male</td>\n",
       "      <td>67</td>\n",
       "      <td>19</td>\n",
       "      <td>14</td>\n",
       "    </tr>\n",
       "    <tr>\n",
       "      <th>11</th>\n",
       "      <td>12</td>\n",
       "      <td>Female</td>\n",
       "      <td>35</td>\n",
       "      <td>19</td>\n",
       "      <td>99</td>\n",
       "    </tr>\n",
       "    <tr>\n",
       "      <th>12</th>\n",
       "      <td>13</td>\n",
       "      <td>Female</td>\n",
       "      <td>58</td>\n",
       "      <td>20</td>\n",
       "      <td>15</td>\n",
       "    </tr>\n",
       "    <tr>\n",
       "      <th>13</th>\n",
       "      <td>14</td>\n",
       "      <td>Female</td>\n",
       "      <td>24</td>\n",
       "      <td>20</td>\n",
       "      <td>77</td>\n",
       "    </tr>\n",
       "    <tr>\n",
       "      <th>14</th>\n",
       "      <td>15</td>\n",
       "      <td>Male</td>\n",
       "      <td>37</td>\n",
       "      <td>20</td>\n",
       "      <td>13</td>\n",
       "    </tr>\n",
       "    <tr>\n",
       "      <th>15</th>\n",
       "      <td>16</td>\n",
       "      <td>Male</td>\n",
       "      <td>22</td>\n",
       "      <td>20</td>\n",
       "      <td>79</td>\n",
       "    </tr>\n",
       "    <tr>\n",
       "      <th>16</th>\n",
       "      <td>17</td>\n",
       "      <td>Female</td>\n",
       "      <td>35</td>\n",
       "      <td>21</td>\n",
       "      <td>35</td>\n",
       "    </tr>\n",
       "    <tr>\n",
       "      <th>17</th>\n",
       "      <td>18</td>\n",
       "      <td>Male</td>\n",
       "      <td>20</td>\n",
       "      <td>21</td>\n",
       "      <td>66</td>\n",
       "    </tr>\n",
       "    <tr>\n",
       "      <th>18</th>\n",
       "      <td>19</td>\n",
       "      <td>Male</td>\n",
       "      <td>52</td>\n",
       "      <td>23</td>\n",
       "      <td>29</td>\n",
       "    </tr>\n",
       "    <tr>\n",
       "      <th>19</th>\n",
       "      <td>20</td>\n",
       "      <td>Female</td>\n",
       "      <td>35</td>\n",
       "      <td>23</td>\n",
       "      <td>98</td>\n",
       "    </tr>\n",
       "  </tbody>\n",
       "</table>\n",
       "</div>"
      ],
      "text/plain": [
       "    CustomerID  Gender  Age  Annual Income (k$)  Spending Score (1-100)\n",
       "0            1    Male   19                  15                      39\n",
       "1            2    Male   21                  15                      81\n",
       "2            3  Female   20                  16                       6\n",
       "3            4  Female   23                  16                      77\n",
       "4            5  Female   31                  17                      40\n",
       "5            6  Female   22                  17                      76\n",
       "6            7  Female   35                  18                       6\n",
       "7            8  Female   23                  18                      94\n",
       "8            9    Male   64                  19                       3\n",
       "9           10  Female   30                  19                      72\n",
       "10          11    Male   67                  19                      14\n",
       "11          12  Female   35                  19                      99\n",
       "12          13  Female   58                  20                      15\n",
       "13          14  Female   24                  20                      77\n",
       "14          15    Male   37                  20                      13\n",
       "15          16    Male   22                  20                      79\n",
       "16          17  Female   35                  21                      35\n",
       "17          18    Male   20                  21                      66\n",
       "18          19    Male   52                  23                      29\n",
       "19          20  Female   35                  23                      98"
      ]
     },
     "execution_count": 29,
     "metadata": {},
     "output_type": "execute_result"
    }
   ],
   "source": [
    "info.head(20)"
   ]
  },
  {
   "cell_type": "markdown",
   "id": "a803e19a-213c-49c3-b122-3a13acbef433",
   "metadata": {},
   "source": [
    "## Tipo de datos\n",
    "\n",
    "CustomerID: Id asignado al cliente\n",
    "Gender: Genero del cliente\n",
    "Age: Edad del cliente \n",
    "Annual Income (k$): Ingresos anuales del cliente \n",
    "Spending Score (1-100): Puntuacíón de gastos del cliente\r\n"
   ]
  },
  {
   "cell_type": "code",
   "execution_count": 32,
   "id": "dd653879-66d3-44ef-8f9a-4f65d1b0427d",
   "metadata": {},
   "outputs": [
    {
     "data": {
      "text/html": [
       "<div>\n",
       "<style scoped>\n",
       "    .dataframe tbody tr th:only-of-type {\n",
       "        vertical-align: middle;\n",
       "    }\n",
       "\n",
       "    .dataframe tbody tr th {\n",
       "        vertical-align: top;\n",
       "    }\n",
       "\n",
       "    .dataframe thead th {\n",
       "        text-align: right;\n",
       "    }\n",
       "</style>\n",
       "<table border=\"1\" class=\"dataframe\">\n",
       "  <thead>\n",
       "    <tr style=\"text-align: right;\">\n",
       "      <th></th>\n",
       "      <th>CustomerID</th>\n",
       "      <th>Age</th>\n",
       "      <th>Annual Income (k$)</th>\n",
       "      <th>Spending Score (1-100)</th>\n",
       "    </tr>\n",
       "  </thead>\n",
       "  <tbody>\n",
       "    <tr>\n",
       "      <th>count</th>\n",
       "      <td>200.000000</td>\n",
       "      <td>200.000000</td>\n",
       "      <td>200.000000</td>\n",
       "      <td>200.000000</td>\n",
       "    </tr>\n",
       "    <tr>\n",
       "      <th>mean</th>\n",
       "      <td>100.500000</td>\n",
       "      <td>38.850000</td>\n",
       "      <td>60.560000</td>\n",
       "      <td>50.200000</td>\n",
       "    </tr>\n",
       "    <tr>\n",
       "      <th>std</th>\n",
       "      <td>57.879185</td>\n",
       "      <td>13.969007</td>\n",
       "      <td>26.264721</td>\n",
       "      <td>25.823522</td>\n",
       "    </tr>\n",
       "    <tr>\n",
       "      <th>min</th>\n",
       "      <td>1.000000</td>\n",
       "      <td>18.000000</td>\n",
       "      <td>15.000000</td>\n",
       "      <td>1.000000</td>\n",
       "    </tr>\n",
       "    <tr>\n",
       "      <th>25%</th>\n",
       "      <td>50.750000</td>\n",
       "      <td>28.750000</td>\n",
       "      <td>41.500000</td>\n",
       "      <td>34.750000</td>\n",
       "    </tr>\n",
       "    <tr>\n",
       "      <th>50%</th>\n",
       "      <td>100.500000</td>\n",
       "      <td>36.000000</td>\n",
       "      <td>61.500000</td>\n",
       "      <td>50.000000</td>\n",
       "    </tr>\n",
       "    <tr>\n",
       "      <th>75%</th>\n",
       "      <td>150.250000</td>\n",
       "      <td>49.000000</td>\n",
       "      <td>78.000000</td>\n",
       "      <td>73.000000</td>\n",
       "    </tr>\n",
       "    <tr>\n",
       "      <th>max</th>\n",
       "      <td>200.000000</td>\n",
       "      <td>70.000000</td>\n",
       "      <td>137.000000</td>\n",
       "      <td>99.000000</td>\n",
       "    </tr>\n",
       "  </tbody>\n",
       "</table>\n",
       "</div>"
      ],
      "text/plain": [
       "       CustomerID         Age  Annual Income (k$)  Spending Score (1-100)\n",
       "count  200.000000  200.000000          200.000000              200.000000\n",
       "mean   100.500000   38.850000           60.560000               50.200000\n",
       "std     57.879185   13.969007           26.264721               25.823522\n",
       "min      1.000000   18.000000           15.000000                1.000000\n",
       "25%     50.750000   28.750000           41.500000               34.750000\n",
       "50%    100.500000   36.000000           61.500000               50.000000\n",
       "75%    150.250000   49.000000           78.000000               73.000000\n",
       "max    200.000000   70.000000          137.000000               99.000000"
      ]
     },
     "execution_count": 32,
     "metadata": {},
     "output_type": "execute_result"
    }
   ],
   "source": [
    "info.describe()"
   ]
  },
  {
   "cell_type": "code",
   "execution_count": 9,
   "id": "8b946fe1-a2e5-4770-8b62-574b4df0bf38",
   "metadata": {},
   "outputs": [
    {
     "name": "stdout",
     "output_type": "stream",
     "text": [
      "<class 'pandas.core.frame.DataFrame'>\n",
      "RangeIndex: 200 entries, 0 to 199\n",
      "Data columns (total 5 columns):\n",
      " #   Column                  Non-Null Count  Dtype \n",
      "---  ------                  --------------  ----- \n",
      " 0   CustomerID              200 non-null    int64 \n",
      " 1   Gender                  200 non-null    object\n",
      " 2   Age                     200 non-null    int64 \n",
      " 3   Annual Income (k$)      200 non-null    int64 \n",
      " 4   Spending Score (1-100)  200 non-null    int64 \n",
      "dtypes: int64(4), object(1)\n",
      "memory usage: 7.9+ KB\n",
      "None\n"
     ]
    }
   ],
   "source": [
    "# Obtener información sobre el tipo de datos y el total de valores en cada columna\n",
    "print(info.info())"
   ]
  },
  {
   "cell_type": "code",
   "execution_count": 34,
   "id": "398c357a-0396-477e-8ad3-04f9498eaacd",
   "metadata": {},
   "outputs": [
    {
     "data": {
      "text/plain": [
       "Text(0.5, 1.0, 'Identificación de Datos Faltantes y Atípicos')"
      ]
     },
     "execution_count": 34,
     "metadata": {},
     "output_type": "execute_result"
    },
    {
     "data": {
      "image/png": "[encoded data removed]",
      "text/plain": [
       "<Figure size 600x300 with 1 Axes>"
      ]
     },
     "metadata": {},
     "output_type": "display_data"
    }
   ],
   "source": [
    "#Identificación de Datos Faltantes y Atípicos\n",
    "plt.figure(figsize=(6, 3))\n",
    "sns.boxplot(x=info['Spending Score (1-100)']) #Recientes\n",
    "plt.title('Identificación de Datos Faltantes y Atípicos', fontsize=10 )"
   ]
  },
  {
   "cell_type": "code",
   "execution_count": null,
   "id": "9824879b-cda6-49b5-980b-7565d8733b18",
   "metadata": {},
   "outputs": [],
   "source": []
  },
  {
   "cell_type": "markdown",
   "id": "27c4d433-82d2-4245-99eb-32c686646e6d",
   "metadata": {},
   "source": [
    "### 2. Preprocesar los datos limpiándolos, tratando valores faltantes y transformándolos según sea necesario"
   ]
  },
  {
   "cell_type": "markdown",
   "id": "b18b6324-b7a3-4366-8b50-bf3c50cda210",
   "metadata": {},
   "source": [
    "### Identificar datos Faltantes"
   ]
  },
  {
   "cell_type": "code",
   "execution_count": 36,
   "id": "4f570d93-5dc8-4286-8a1e-0882d09517e9",
   "metadata": {},
   "outputs": [
    {
     "name": "stdout",
     "output_type": "stream",
     "text": [
      "CustomerID                0\n",
      "Gender                    0\n",
      "Age                       0\n",
      "Annual Income (k$)        0\n",
      "Spending Score (1-100)    0\n",
      "dtype: int64\n"
     ]
    }
   ],
   "source": [
    "# Identificar columnas con datos faltantes\n",
    "print(info.isnull().sum())\n"
   ]
  },
  {
   "cell_type": "markdown",
   "id": "24a2130b-7050-4180-9a88-f744688f9ea8",
   "metadata": {},
   "source": [
    "## Solamente si aplica se realiza los siguientes pasos\n",
    "* **Eliminar filas con datos faltantes**: Puedes eliminar las filas o columnas con valores faltantes si son pocas y no impactan significativamente el análisis.\n",
    "data_clean = data.dropna()\n",
    "\n",
    "* **Rellenar valores faltantes con la media de la columna** Rellenar los valores faltantes con un valor como la media, mediana, o moda de la columna.\n",
    "\n",
    "data['columna'] = data['columna'].fillna(data['columna'].mean())\n",
    "\n",
    "* **Imputación avanzada: Usar técnicas más sofisticadas como KNN o modelos de regresión para predecir los valores faltantes.**\n",
    "Técnicas adicionales:\n",
    "\n",
    "Interpolación: Puedes usar la interpolación para llenar los valores faltantes en series temporales.\n",
    "data['columna'] = data['columna'].interpolate()\n"
   ]
  },
  {
   "cell_type": "code",
   "execution_count": 39,
   "id": "1dae0b2b-2b2a-499d-815a-3fa166b82288",
   "metadata": {},
   "outputs": [
    {
     "data": {
      "text/plain": [
       "Text(0.5, 1.0, 'Identificación de Datos Atípicos')"
      ]
     },
     "execution_count": 39,
     "metadata": {},
     "output_type": "execute_result"
    },
    {
     "data": {
      "image/png": "[encoded data removed]",
      "text/plain": [
       "<Figure size 600x300 with 1 Axes>"
      ]
     },
     "metadata": {},
     "output_type": "display_data"
    }
   ],
   "source": [
    "#Identificación de Datos Atípicos\n",
    "\n",
    "plt.figure(figsize=(6, 3))\n",
    "sns.boxplot(x=info['Spending Score (1-100)'])\n",
    "plt.title('Identificación de Datos Atípicos', fontsize=10 )"
   ]
  },
  {
   "cell_type": "code",
   "execution_count": 63,
   "id": "0578e91d-cf1e-4b16-80f3-089bf7739813",
   "metadata": {},
   "outputs": [
    {
     "name": "stdout",
     "output_type": "stream",
     "text": [
      "El total de datos atípicos es 0\n"
     ]
    }
   ],
   "source": [
    "#Conteo de Datos Atípicos\n",
    "\n",
    "nivel_minimo=0\n",
    "nivel_maximo=100\n",
    "Total_Atipicos=((info['Spending Score (1-100)']<nivel_minimo)|(info['Spending Score (1-100)']>nivel_maximo)).sum()\n",
    "print(\"El total de datos atípicos es {}\".format(Total_Atipicos))"
   ]
  },
  {
   "cell_type": "code",
   "execution_count": 65,
   "id": "f6438761-d2fe-4a80-885f-c9078347bf2e",
   "metadata": {},
   "outputs": [],
   "source": [
    "# Filtra Datos Atípicos\n",
    "\n",
    "Datos=info[(info['Spending Score (1-100)']<nivel_maximo)&(info['Spending Score (1-100)']>nivel_minimo)]"
   ]
  },
  {
   "cell_type": "code",
   "execution_count": 85,
   "id": "062bd988-2241-44c6-b32f-f8aeee605450",
   "metadata": {},
   "outputs": [
    {
     "name": "stdout",
     "output_type": "stream",
     "text": [
      "<class 'pandas.core.frame.DataFrame'>\n",
      "RangeIndex: 200 entries, 0 to 199\n",
      "Data columns (total 5 columns):\n",
      " #   Column                  Non-Null Count  Dtype \n",
      "---  ------                  --------------  ----- \n",
      " 0   CustomerID              200 non-null    int64 \n",
      " 1   Gender                  200 non-null    object\n",
      " 2   Age                     200 non-null    int64 \n",
      " 3   Annual Income (k$)      200 non-null    int64 \n",
      " 4   Spending Score (1-100)  200 non-null    int64 \n",
      "dtypes: int64(4), object(1)\n",
      "memory usage: 7.9+ KB\n"
     ]
    }
   ],
   "source": [
    "#Revisión del tipo de datos y datos faltantes\n",
    "\n",
    "Datos.info()"
   ]
  },
  {
   "cell_type": "markdown",
   "id": "0f5f3ced-ffde-48fb-a702-bb20bf98bfde",
   "metadata": {},
   "source": [
    "### 3. Seleccionar las características más relevantes para entrenar el modelo utilizando selección de características"
   ]
  },
  {
   "cell_type": "code",
   "execution_count": null,
   "id": "2906daeb-ff17-485c-8721-e983bbb31e9b",
   "metadata": {},
   "outputs": [],
   "source": [
    "Para seleccionar las características más relevantes del dataset Marketing Campaign para entrenar un modelo de Hierarchical Clustering, es importante entender cuáles variables pueden realizar  segmentación de clientes. \n",
    "\n",
    "* comportamientos de compra\n",
    "* patrones de respuesta del cliente\n",
    "\n",
    "1. Las características del cliente brindan información sobre el perfil básico del tipo de cliente:\n",
    "\n",
    "* Age: La edad del cliente puede influir en sus patrones de compra y preferencias.\n",
    "* Gender: El tipo de genero del cliente puede influir en que tipo de productos compra\n",
    "\n",
    "Las características son útiles para la segmentación de clientes y permiten identificar patrones demográficos que pueden correlacionarse con comportamientos específicos.\n",
    "\n",
    "2. Selección de características de comportamiento de compra\n",
    "Estas características se enfocan en cómo los clientes interactúan con la empresa en términos de frecuencia y volumen de gasto:\n",
    "\n",
    "* Annual income: Ingreso anual del cliente lo cual permite ver cuanto puede gastar\n",
    "* Spending score: Puntuación de gasto es la calificación que se da al cliente por el nivel de gasto realizado\n"
   ]
  },
  {
   "cell_type": "code",
   "execution_count": 111,
   "id": "afb21322-5d71-4a7d-8be3-30b6df36d9fd",
   "metadata": {},
   "outputs": [],
   "source": [
    "# Filtrar columnas del modelo \n",
    "\n",
    "Datos1 = Datos[[\"Age\",\"Gender\",\"Annual Income (k$)\",\"Spending Score (1-100)\"]]"
   ]
  },
  {
   "cell_type": "code",
   "execution_count": 113,
   "id": "58feb7ec-f7f9-4b66-8829-20d9f1a86ca9",
   "metadata": {},
   "outputs": [
    {
     "data": {
      "text/html": [
       "<div>\n",
       "<style scoped>\n",
       "    .dataframe tbody tr th:only-of-type {\n",
       "        vertical-align: middle;\n",
       "    }\n",
       "\n",
       "    .dataframe tbody tr th {\n",
       "        vertical-align: top;\n",
       "    }\n",
       "\n",
       "    .dataframe thead th {\n",
       "        text-align: right;\n",
       "    }\n",
       "</style>\n",
       "<table border=\"1\" class=\"dataframe\">\n",
       "  <thead>\n",
       "    <tr style=\"text-align: right;\">\n",
       "      <th></th>\n",
       "      <th>Age</th>\n",
       "      <th>Gender</th>\n",
       "      <th>Annual Income (k$)</th>\n",
       "      <th>Spending Score (1-100)</th>\n",
       "    </tr>\n",
       "  </thead>\n",
       "  <tbody>\n",
       "    <tr>\n",
       "      <th>0</th>\n",
       "      <td>19</td>\n",
       "      <td>Male</td>\n",
       "      <td>15</td>\n",
       "      <td>39</td>\n",
       "    </tr>\n",
       "    <tr>\n",
       "      <th>1</th>\n",
       "      <td>21</td>\n",
       "      <td>Male</td>\n",
       "      <td>15</td>\n",
       "      <td>81</td>\n",
       "    </tr>\n",
       "    <tr>\n",
       "      <th>2</th>\n",
       "      <td>20</td>\n",
       "      <td>Female</td>\n",
       "      <td>16</td>\n",
       "      <td>6</td>\n",
       "    </tr>\n",
       "    <tr>\n",
       "      <th>3</th>\n",
       "      <td>23</td>\n",
       "      <td>Female</td>\n",
       "      <td>16</td>\n",
       "      <td>77</td>\n",
       "    </tr>\n",
       "    <tr>\n",
       "      <th>4</th>\n",
       "      <td>31</td>\n",
       "      <td>Female</td>\n",
       "      <td>17</td>\n",
       "      <td>40</td>\n",
       "    </tr>\n",
       "    <tr>\n",
       "      <th>5</th>\n",
       "      <td>22</td>\n",
       "      <td>Female</td>\n",
       "      <td>17</td>\n",
       "      <td>76</td>\n",
       "    </tr>\n",
       "    <tr>\n",
       "      <th>6</th>\n",
       "      <td>35</td>\n",
       "      <td>Female</td>\n",
       "      <td>18</td>\n",
       "      <td>6</td>\n",
       "    </tr>\n",
       "    <tr>\n",
       "      <th>7</th>\n",
       "      <td>23</td>\n",
       "      <td>Female</td>\n",
       "      <td>18</td>\n",
       "      <td>94</td>\n",
       "    </tr>\n",
       "    <tr>\n",
       "      <th>8</th>\n",
       "      <td>64</td>\n",
       "      <td>Male</td>\n",
       "      <td>19</td>\n",
       "      <td>3</td>\n",
       "    </tr>\n",
       "    <tr>\n",
       "      <th>9</th>\n",
       "      <td>30</td>\n",
       "      <td>Female</td>\n",
       "      <td>19</td>\n",
       "      <td>72</td>\n",
       "    </tr>\n",
       "    <tr>\n",
       "      <th>10</th>\n",
       "      <td>67</td>\n",
       "      <td>Male</td>\n",
       "      <td>19</td>\n",
       "      <td>14</td>\n",
       "    </tr>\n",
       "    <tr>\n",
       "      <th>11</th>\n",
       "      <td>35</td>\n",
       "      <td>Female</td>\n",
       "      <td>19</td>\n",
       "      <td>99</td>\n",
       "    </tr>\n",
       "    <tr>\n",
       "      <th>12</th>\n",
       "      <td>58</td>\n",
       "      <td>Female</td>\n",
       "      <td>20</td>\n",
       "      <td>15</td>\n",
       "    </tr>\n",
       "    <tr>\n",
       "      <th>13</th>\n",
       "      <td>24</td>\n",
       "      <td>Female</td>\n",
       "      <td>20</td>\n",
       "      <td>77</td>\n",
       "    </tr>\n",
       "    <tr>\n",
       "      <th>14</th>\n",
       "      <td>37</td>\n",
       "      <td>Male</td>\n",
       "      <td>20</td>\n",
       "      <td>13</td>\n",
       "    </tr>\n",
       "    <tr>\n",
       "      <th>15</th>\n",
       "      <td>22</td>\n",
       "      <td>Male</td>\n",
       "      <td>20</td>\n",
       "      <td>79</td>\n",
       "    </tr>\n",
       "    <tr>\n",
       "      <th>16</th>\n",
       "      <td>35</td>\n",
       "      <td>Female</td>\n",
       "      <td>21</td>\n",
       "      <td>35</td>\n",
       "    </tr>\n",
       "    <tr>\n",
       "      <th>17</th>\n",
       "      <td>20</td>\n",
       "      <td>Male</td>\n",
       "      <td>21</td>\n",
       "      <td>66</td>\n",
       "    </tr>\n",
       "    <tr>\n",
       "      <th>18</th>\n",
       "      <td>52</td>\n",
       "      <td>Male</td>\n",
       "      <td>23</td>\n",
       "      <td>29</td>\n",
       "    </tr>\n",
       "    <tr>\n",
       "      <th>19</th>\n",
       "      <td>35</td>\n",
       "      <td>Female</td>\n",
       "      <td>23</td>\n",
       "      <td>98</td>\n",
       "    </tr>\n",
       "    <tr>\n",
       "      <th>20</th>\n",
       "      <td>35</td>\n",
       "      <td>Male</td>\n",
       "      <td>24</td>\n",
       "      <td>35</td>\n",
       "    </tr>\n",
       "    <tr>\n",
       "      <th>21</th>\n",
       "      <td>25</td>\n",
       "      <td>Male</td>\n",
       "      <td>24</td>\n",
       "      <td>73</td>\n",
       "    </tr>\n",
       "    <tr>\n",
       "      <th>22</th>\n",
       "      <td>46</td>\n",
       "      <td>Female</td>\n",
       "      <td>25</td>\n",
       "      <td>5</td>\n",
       "    </tr>\n",
       "    <tr>\n",
       "      <th>23</th>\n",
       "      <td>31</td>\n",
       "      <td>Male</td>\n",
       "      <td>25</td>\n",
       "      <td>73</td>\n",
       "    </tr>\n",
       "    <tr>\n",
       "      <th>24</th>\n",
       "      <td>54</td>\n",
       "      <td>Female</td>\n",
       "      <td>28</td>\n",
       "      <td>14</td>\n",
       "    </tr>\n",
       "    <tr>\n",
       "      <th>25</th>\n",
       "      <td>29</td>\n",
       "      <td>Male</td>\n",
       "      <td>28</td>\n",
       "      <td>82</td>\n",
       "    </tr>\n",
       "    <tr>\n",
       "      <th>26</th>\n",
       "      <td>45</td>\n",
       "      <td>Female</td>\n",
       "      <td>28</td>\n",
       "      <td>32</td>\n",
       "    </tr>\n",
       "    <tr>\n",
       "      <th>27</th>\n",
       "      <td>35</td>\n",
       "      <td>Male</td>\n",
       "      <td>28</td>\n",
       "      <td>61</td>\n",
       "    </tr>\n",
       "    <tr>\n",
       "      <th>28</th>\n",
       "      <td>40</td>\n",
       "      <td>Female</td>\n",
       "      <td>29</td>\n",
       "      <td>31</td>\n",
       "    </tr>\n",
       "    <tr>\n",
       "      <th>29</th>\n",
       "      <td>23</td>\n",
       "      <td>Female</td>\n",
       "      <td>29</td>\n",
       "      <td>87</td>\n",
       "    </tr>\n",
       "    <tr>\n",
       "      <th>30</th>\n",
       "      <td>60</td>\n",
       "      <td>Male</td>\n",
       "      <td>30</td>\n",
       "      <td>4</td>\n",
       "    </tr>\n",
       "    <tr>\n",
       "      <th>31</th>\n",
       "      <td>21</td>\n",
       "      <td>Female</td>\n",
       "      <td>30</td>\n",
       "      <td>73</td>\n",
       "    </tr>\n",
       "    <tr>\n",
       "      <th>32</th>\n",
       "      <td>53</td>\n",
       "      <td>Male</td>\n",
       "      <td>33</td>\n",
       "      <td>4</td>\n",
       "    </tr>\n",
       "    <tr>\n",
       "      <th>33</th>\n",
       "      <td>18</td>\n",
       "      <td>Male</td>\n",
       "      <td>33</td>\n",
       "      <td>92</td>\n",
       "    </tr>\n",
       "    <tr>\n",
       "      <th>34</th>\n",
       "      <td>49</td>\n",
       "      <td>Female</td>\n",
       "      <td>33</td>\n",
       "      <td>14</td>\n",
       "    </tr>\n",
       "    <tr>\n",
       "      <th>35</th>\n",
       "      <td>21</td>\n",
       "      <td>Female</td>\n",
       "      <td>33</td>\n",
       "      <td>81</td>\n",
       "    </tr>\n",
       "    <tr>\n",
       "      <th>36</th>\n",
       "      <td>42</td>\n",
       "      <td>Female</td>\n",
       "      <td>34</td>\n",
       "      <td>17</td>\n",
       "    </tr>\n",
       "    <tr>\n",
       "      <th>37</th>\n",
       "      <td>30</td>\n",
       "      <td>Female</td>\n",
       "      <td>34</td>\n",
       "      <td>73</td>\n",
       "    </tr>\n",
       "    <tr>\n",
       "      <th>38</th>\n",
       "      <td>36</td>\n",
       "      <td>Female</td>\n",
       "      <td>37</td>\n",
       "      <td>26</td>\n",
       "    </tr>\n",
       "    <tr>\n",
       "      <th>39</th>\n",
       "      <td>20</td>\n",
       "      <td>Female</td>\n",
       "      <td>37</td>\n",
       "      <td>75</td>\n",
       "    </tr>\n",
       "  </tbody>\n",
       "</table>\n",
       "</div>"
      ],
      "text/plain": [
       "    Age  Gender  Annual Income (k$)  Spending Score (1-100)\n",
       "0    19    Male                  15                      39\n",
       "1    21    Male                  15                      81\n",
       "2    20  Female                  16                       6\n",
       "3    23  Female                  16                      77\n",
       "4    31  Female                  17                      40\n",
       "5    22  Female                  17                      76\n",
       "6    35  Female                  18                       6\n",
       "7    23  Female                  18                      94\n",
       "8    64    Male                  19                       3\n",
       "9    30  Female                  19                      72\n",
       "10   67    Male                  19                      14\n",
       "11   35  Female                  19                      99\n",
       "12   58  Female                  20                      15\n",
       "13   24  Female                  20                      77\n",
       "14   37    Male                  20                      13\n",
       "15   22    Male                  20                      79\n",
       "16   35  Female                  21                      35\n",
       "17   20    Male                  21                      66\n",
       "18   52    Male                  23                      29\n",
       "19   35  Female                  23                      98\n",
       "20   35    Male                  24                      35\n",
       "21   25    Male                  24                      73\n",
       "22   46  Female                  25                       5\n",
       "23   31    Male                  25                      73\n",
       "24   54  Female                  28                      14\n",
       "25   29    Male                  28                      82\n",
       "26   45  Female                  28                      32\n",
       "27   35    Male                  28                      61\n",
       "28   40  Female                  29                      31\n",
       "29   23  Female                  29                      87\n",
       "30   60    Male                  30                       4\n",
       "31   21  Female                  30                      73\n",
       "32   53    Male                  33                       4\n",
       "33   18    Male                  33                      92\n",
       "34   49  Female                  33                      14\n",
       "35   21  Female                  33                      81\n",
       "36   42  Female                  34                      17\n",
       "37   30  Female                  34                      73\n",
       "38   36  Female                  37                      26\n",
       "39   20  Female                  37                      75"
      ]
     },
     "execution_count": 113,
     "metadata": {},
     "output_type": "execute_result"
    }
   ],
   "source": [
    "# Revisión de los datos de las variables objetivo\n",
    "Datos1.head(40)"
   ]
  },
  {
   "cell_type": "code",
   "execution_count": 115,
   "id": "da28a87a-a742-4c74-8993-797284edda61",
   "metadata": {},
   "outputs": [
    {
     "data": {
      "image/png": "[encoded data removed]",
      "text/plain": [
       "<Figure size 1000x600 with 1 Axes>"
      ]
     },
     "metadata": {},
     "output_type": "display_data"
    }
   ],
   "source": [
    "# Grafica antes del agrupamiento\n",
    "\n",
    "plt.figure(figsize=(10, 6))\n",
    "sns.scatterplot(x=Datos1['Annual Income (k$)'], y=Datos1['Age'])\n",
    "plt.title('Distribución de Edad e Ingreso de Clientes')\n",
    "plt.xlabel('Annual Income (k$)')\n",
    "plt.ylabel('Age')\n",
    "plt.show()"
   ]
  },
  {
   "cell_type": "code",
   "execution_count": null,
   "id": "f9ff5e6f-873b-479a-a6f8-ed0ddd7d4ae6",
   "metadata": {},
   "outputs": [],
   "source": [
    "### 4. Entrenar el modelo configurando los diferentes hiperparámetros"
   ]
  },
  {
   "cell_type": "markdown",
   "id": "6e9ba734-4ba7-4867-897e-481a6198beb8",
   "metadata": {},
   "source": [
    "**Preparación de los Datos**\n",
    "Para aplicar el modelo de clustering jerárquico, es recomendable estandarizar los datos si contienen diferentes escalas. Esto se hace con el StandardScaler de scikit-learn, que centra los datos alrededor de 0 y les da una desviación estándar de 1:"
   ]
  },
  {
   "cell_type": "code",
   "execution_count": 154,
   "id": "9b116a7a-c2be-4e76-bede-8d71e6725c67",
   "metadata": {},
   "outputs": [],
   "source": [
    "scaler = StandardScaler()\n",
    "scaled_data = scaler.fit_transform(Datos[['Annual Income (k$)', 'Age', 'Spending Score (1-100)']])"
   ]
  },
  {
   "cell_type": "markdown",
   "id": "3bfd2279-63c9-41af-8ed6-bcb18cf7160c",
   "metadata": {},
   "source": [
    "**Visualización del Dendrograma**\n",
    "Antes de aplicar el modelo, es común visualizar el dendrograma para tener una idea de cómo se agruparán los datos. Esto se puede hacer con la función linkage de SciPy y dendrogram para mostrar el árbol de agrupamiento."
   ]
  },
  {
   "cell_type": "code",
   "execution_count": 156,
   "id": "25d374dc-e98f-44ce-aec1-a76f8c7ae2b9",
   "metadata": {},
   "outputs": [
    {
     "data": {
      "image/png": "[encoded data removed]",
      "text/plain": [
       "<Figure size 1000x700 with 1 Axes>"
      ]
     },
     "metadata": {},
     "output_type": "display_data"
    }
   ],
   "source": [
    "\n",
    "# Check for and handle non-finite values in scaled_data\n",
    "scaled_data = np.nan_to_num(scaled_data)  # Reemplaza valores NaN, inf y -inf con valores finitos\n",
    "\n",
    "# Continue with hierarchical clustering\n",
    "linked = linkage(scaled_data, method='ward') # Realiza el enlace jerárquico con el método de Ward\n",
    "\n",
    "plt.figure(figsize=(10, 7))\n",
    "dendrogram(linked, orientation='top', distance_sort='descending', show_leaf_counts=False) # Dibuja el dendrograma\n",
    "plt.title('Dendrograma para Clustering Jerárquico')\n",
    "plt.xlabel('Muestras')\n",
    "plt.ylabel('Distancia')\n",
    "plt.show()"
   ]
  },
  {
   "cell_type": "markdown",
   "id": "b56beca2-c7f9-46c2-9e90-a47c3fdf2cf9",
   "metadata": {},
   "source": [
    "En este gráfico, cada fusión (cada rama que se une) representa la combinación de dos clústeres o muestras.\n",
    "Las ramas largas indican que las muestras o clústeres que se están uniendo tienen gran disimilitud, mientras que las ramas cortas indican que los elementos fusionados son muy similares.\n",
    "En función de la distancia en el eje Y, puedes determinar cuántos clústeres deseas extraer del análisis de agrupamiento, ya que el corte en el dendrograma a una cierta altura te dará el número de grupos a conservar."
   ]
  },
  {
   "cell_type": "markdown",
   "id": "bcaa9120-e97c-4e2a-9f00-27ec195a0d53",
   "metadata": {},
   "source": [
    "Interpretación:\n",
    "\n",
    "Ingresos: Las muestras con ingresos similares tenderán a unirse en ramas cortas, lo que indica que las personas con ingresos parecidos tienden a tener características similares en otras variables.\n",
    "\n",
    "Edad: Los grupos de edad similarmente agrupados pueden aparecer en el dendrograma con ramas cortas. Las personas de edades similares pueden compartir comportamientos de compra similares, especialmente cuando se observan en el contexto de otros factores como el ingreso.\n",
    "\n",
    "Recency(Reciente): Este atributo indica cuán recientemente una persona ha realizado una compra o interacción. En el dendrograma. Las diferencias en recencia podrían ser un factor clave al separar a los clientes que interactúan más frecuentemente de aquellos que no lo hacen.\n",
    "\n",
    "'MntWines' (Gasto en vinos): Similar a los ingresos, el gasto en vinos probablemente influirá en la agrupación. Los clústeres que incluyen individuos con altos gastos en vinos se separarán de aquellos que gastan menos en este producto, lo que puede revelar patrones de compra de productos específicos."
   ]
  },
  {
   "cell_type": "code",
   "execution_count": 160,
   "id": "5a12b52f-d91f-4b47-a8a9-2beee68845c4",
   "metadata": {},
   "outputs": [
    {
     "name": "stdout",
     "output_type": "stream",
     "text": [
      "Coeficiente de Silhouette: 0.32148866683112387\n",
      "Índice de Calinski-Harabasz: 88.10174149244529\n",
      "Índice de Davies-Bouldin: 1.1277290061047858\n"
     ]
    }
   ],
   "source": [
    "\n",
    "# Assuming 'Datos' is your DataFrame\n",
    "# Replace NaNs with the mean of each column\n",
    "Datos[['Annual Income (k$)', 'Age', 'Spending Score (1-100)']] = Datos[['Annual Income (k$)', 'Age', 'Spending Score (1-100)']].fillna(Datos[['Annual Income (k$)', 'Age', 'Spending Score (1-100)']].mean())\n",
    "\n",
    "# Preprocesamiento de los datos\n",
    "scaler = StandardScaler()\n",
    "scaled_data = scaler.fit_transform(Datos[['Annual Income (k$)', 'Age', 'Spending Score (1-100)']])  \n",
    "\n",
    "# Entrenamiento del modelo de Clustering Jerárquico\n",
    "model = AgglomerativeClustering(n_clusters=3, linkage='ward')  \n",
    "labels = model.fit_predict(scaled_data)\n",
    "\n",
    "# Evaluación del modelo\n",
    "\n",
    "# Coeficiente de Silhouette\n",
    "sil_score = silhouette_score(scaled_data, labels)\n",
    "print(f\"Coeficiente de Silhouette: {sil_score}\")\n",
    "\n",
    "# Índice de Calinski-Harabasz\n",
    "ch_score = calinski_harabasz_score(scaled_data, labels)\n",
    "print(f\"Índice de Calinski-Harabasz: {ch_score}\")\n",
    "\n",
    "# Índice de Davies-Bouldin\n",
    "db_score = davies_bouldin_score(scaled_data, labels)\n",
    "print(f\"Índice de Davies-Bouldin: {db_score}\")"
   ]
  },
  {
   "cell_type": "code",
   "execution_count": null,
   "id": "a02dd630-8110-44be-8ed8-dc3b54457066",
   "metadata": {},
   "outputs": [],
   "source": [
    "### 6. Realizar las diferentes gráficas que permitan visualizar los resultados del modelo"
   ]
  },
  {
   "cell_type": "code",
   "execution_count": null,
   "id": "0a926a80-2de0-4df9-8622-ff230d1752e3",
   "metadata": {},
   "outputs": [],
   "source": [
    " * **Gráfico de Dispersión para Visualización de Clusters**"
   ]
  },
  {
   "cell_type": "code",
   "execution_count": 176,
   "id": "276735f9-341e-41b2-91aa-4bd663903a87",
   "metadata": {},
   "outputs": [
    {
     "data": {
      "image/png": "[encoded data removed]",
      "text/plain": [
       "<Figure size 800x600 with 1 Axes>"
      ]
     },
     "metadata": {},
     "output_type": "display_data"
    }
   ],
   "source": [
    "from sklearn.cluster import AgglomerativeClustering\n",
    "import matplotlib.pyplot as plt\n",
    "\n",
    "# Aplicar el modelo de clustering jerárquico\n",
    "model = AgglomerativeClustering(n_clusters=4)  # Ajustar el número de clusters\n",
    "Datos['Cluster'] = model.fit_predict(scaled_data)\n",
    "# Graficar los clusters\n",
    "plt.figure(figsize=(8, 6))\n",
    "plt.scatter(Datos['Age'], Datos['Annual Income (k$)'], c=Datos['Cluster'], cmap='viridis')\n",
    "plt.title('Clusters Identificados con Clustering Jerárquico')\n",
    "plt.xlabel('Edad')\n",
    "plt.ylabel('Ingreso')\n",
    "plt.show()"
   ]
  },
  {
   "cell_type": "markdown",
   "id": "0faef2ed-5ede-42d9-912c-d54b0f2e537b",
   "metadata": {},
   "source": [
    "Este gráfico te muestra cómo se agrupan las muestras según las características seleccionadas, en este caso, Edad e Ingreso. Los puntos de diferentes colores representan diferentes clusters."
   ]
  },
  {
   "cell_type": "markdown",
   "id": "447a15a5-cada-4d4c-b734-be063dd7c735",
   "metadata": {},
   "source": [
    "* **Gráfico de Silueta**\n",
    "\n",
    "Este gráfico muestra cuán similar es cada punto a su propio grupo en comparación con otros grupos. Un valor alto (cercano a 1) indica que los puntos están bien agrupados, mientras que un valor bajo (cercano a -1) indica que están mal asignados."
   ]
  },
  {
   "cell_type": "code",
   "execution_count": 166,
   "id": "f7653dfd-be2b-4380-97b0-a7ec8b085e47",
   "metadata": {},
   "outputs": [
    {
     "name": "stdout",
     "output_type": "stream",
     "text": [
      "Silhouette Score: 0.3614512741691407\n"
     ]
    },
    {
     "data": {
      "image/png": "[encoded data removed]",
      "text/plain": [
       "<Figure size 1000x700 with 1 Axes>"
      ]
     },
     "metadata": {},
     "output_type": "display_data"
    }
   ],
   "source": [
    "from sklearn.metrics import silhouette_samples, silhouette_score\n",
    "import matplotlib.pyplot as plt\n",
    "\n",
    "# Calcular la silueta\n",
    "silhouette_avg = silhouette_score(scaled_data, model.labels_)\n",
    "print(f'Silhouette Score: {silhouette_avg}')\n",
    "\n",
    "# Mostrar el gráfico de silueta\n",
    "sample_silhouette_values = silhouette_samples(scaled_data, model.labels_)\n",
    "fig, ax = plt.subplots(figsize=(10, 7))\n",
    "\n",
    "ax.plot(sample_silhouette_values, 'bo')\n",
    "ax.axvline(x=silhouette_avg, color=\"red\", linestyle=\"--\")\n",
    "ax.set_title(\"Gráfico de Silueta para Clustering Jerárquico\")\n",
    "ax.set_xlabel(\"Valor de Silueta\")\n",
    "ax.set_ylabel(\"Muestras\")\n",
    "plt.show()"
   ]
  },
  {
   "cell_type": "markdown",
   "id": "72d83e36-b42d-4be5-b681-5571fbcee7c3",
   "metadata": {},
   "source": [
    "### **7. Interpretar, analizar y documentar los resultados obtenidos**"
   ]
  },
  {
   "cell_type": "markdown",
   "id": "f367fa04-b23f-4482-a56c-bfed89ff7796",
   "metadata": {},
   "source": [
    "* La edad del cliente pueda que influya en sus patrones de compra y preferencias.\n",
    "* El genero de la persona podría influir en los gastos realizados en base a sus ingresos.\n",
    "* En el gráfico de silueta las Silhouettes están mas agrupadas y cercanas a +1, eso nos indica que la mayoría de los puntos están correctamente asignados a su cluster y que los clusters están bien separados.\n",
    "* Un valor de 0.3214 de Coeficiente de Silhouette indica que los clusters no están tan bien separados ni son tan coherentes. Aunque los puntos dentro de cada cluster están algo agrupados, hay cierta superposición entre los clusters, lo que podría sugerir que los grupos podrían no ser perfectamente distintos.\n",
    "* El índice de Calinski-Harabasz es de 88.101 es bastante bajo, lo que sugiere que los clusters no son relativamente compactos y no estan bien separados. Lo que indica, un valor inferior a 100  indica que el modelo no ha realizado una buena segmentación.\n",
    "* Davies-Bouldin de 1.127 indica que los clusters no son perfectamente separados, pero tampoco son excesivamente dispersos o solapados."
   ]
  },
  {
   "cell_type": "code",
   "execution_count": null,
   "id": "61e0c21a-ecdf-49c6-981c-aee107ec8475",
   "metadata": {},
   "outputs": [],
   "source": []
  }
 ],
 "metadata": {
  "kernelspec": {
   "display_name": "Python 3 (ipykernel)",
   "language": "python",
   "name": "python3"
  },
  "language_info": {
   "codemirror_mode": {
    "name": "ipython",
    "version": 3
   },
   "file_extension": ".py",
   "mimetype": "text/x-python",
   "name": "python",
   "nbconvert_exporter": "python",
   "pygments_lexer": "ipython3",
   "version": "3.12.4"
  }
 },
 "nbformat": 4,
 "nbformat_minor": 5
}
